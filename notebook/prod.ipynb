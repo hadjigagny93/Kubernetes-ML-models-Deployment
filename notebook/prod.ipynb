{
 "cells": [
  {
   "cell_type": "code",
   "execution_count": 9,
   "metadata": {},
   "outputs": [
    {
     "data": {
      "text/plain": [
       "{'AGE': {0: 58},\n",
       " 'JOB_TYPE': {0: 'Manager'},\n",
       " 'STATUS': {0: 'Marié'},\n",
       " 'EDUCATION': {0: 'Tertiaire'},\n",
       " 'HAS_DEFAULT': {0: 'No'},\n",
       " 'BALANCE': {0: 2143},\n",
       " 'HAS_HOUSING_LOAN': {0: 'Yes'},\n",
       " 'HAS_PERSO_LOAN': {0: 'No'},\n",
       " 'CONTACT': {0: nan},\n",
       " 'NB_CONTACT': {0: 1},\n",
       " 'NB_DAY_LAST_CONTACT': {0: -1},\n",
       " 'NB_CONTACT_LAST_CAMPAIGN': {0: 0},\n",
       " 'RESULT_LAST_CAMPAIGN': {0: nan},\n",
       " 'SUBSCRIPTION': {0: 'No'},\n",
       " 'EMPLOYMENT_VARIATION_RATE': {0: 1.1},\n",
       " 'IDX_CONSUMER_PRICE': {0: 93.994},\n",
       " 'IDX_CONSUMER_CONFIDENCE': {0: -36.4},\n",
       " 'NB_EMPLOYE': {0: 5191.0}}"
      ]
     },
     "execution_count": 9,
     "metadata": {},
     "output_type": "execute_result"
    }
   ],
   "source": [
    "\n",
    "import pandas as pd\n",
    "def map_forward_backward_month(s=\"2020-01-09\", method=\"backward\"):\n",
    "    def f(year_month):\n",
    "        y, m = year_month.split(\"-\")\n",
    "        if m == \"01\":\n",
    "            m = \"12\"\n",
    "            y = str(int(y) - 1)\n",
    "        else:\n",
    "            m = str(int(m) - 1).zfill(2)\n",
    "        return y + \"-\" + m\n",
    "    md_dict = {\n",
    "        \"/2\": \"28\",\n",
    "        \"01\": \"31\",\n",
    "        \"02\": \"28\",\n",
    "        \"03\": \"31\",\n",
    "        \"04\": \"30\",\n",
    "        \"05\": \"31\",\n",
    "        \"06\": \"30\",\n",
    "        \"07\": \"31\",\n",
    "        \"08\": \"31\",\n",
    "        \"09\": \"30\",\n",
    "        \"10\": \"31\",\n",
    "        \"11\": \"30\",\n",
    "        \"12\": \"31\"}\n",
    "    if method == \"forward\":\n",
    "        return s[:8] + md_dict[s[5:7]]\n",
    "    else:\n",
    "        return f(s[:7]) + \"-\" + md_dict[f(s[:7])[5:]] \n",
    "\n",
    "\n",
    "class GenerateDataSet:\n",
    "    \n",
    "    def __init__(self, marketing=None, socio=None):\n",
    "        self.marketing = marketing \n",
    "        self.socio = socio \n",
    " \n",
    "    def _normalize_data(self, method=\"forward\"):\n",
    "        self.marketing[\"DATE\"] = self.marketing[\"DATE\"].apply(lambda date: map_forward_backward_month(date, method=method))\n",
    "        return self.marketing.join(self.socio.set_index(\"DATE\"), on=\"DATE\")\n",
    "\n",
    "    def create_data(self, method=\"forward\"):\n",
    "        return self._normalize_data(method=method).drop([\"DATE\", \"DURATION_CONTACT\"] , axis=1)\n",
    "    \n",
    "\n",
    "\n",
    "# read the data from sql ... enfin dans la vraie vie \n",
    "socio = pd.read_csv(\"/Users/heps/Downloads/sc.csv\", sep=\",\")\n",
    "marketing = pd.read_csv(\"/Users/heps/Downloads/marketing.csv\", sep=\",\")\n",
    "\n",
    "# merge \n",
    "instance = GenerateDataSet(socio=socio, marketing=marketing).create_data()\n",
    "\n",
    "\n",
    "# see the output\n",
    "\n",
    "\n",
    "instance.head(1).to_dict()"
   ]
  },
  {
   "cell_type": "code",
   "execution_count": 7,
   "metadata": {},
   "outputs": [],
   "source": [
    "a = pd.DataFrame.from_dict({'DATE': {0: '2008-05-05'},\n",
    " 'AGE': {0: 58},\n",
    " 'JOB_TYPE': {0: 'Manager'},\n",
    " 'STATUS': {0: 'Marié'},\n",
    " 'EDUCATION': {0: 'Tertiaire'},\n",
    " 'HAS_DEFAULT': {0: 'No'},\n",
    " 'BALANCE': {0: 2143},\n",
    " 'HAS_HOUSING_LOAN': {0: 'Yes'},\n",
    " 'HAS_PERSO_LOAN': {0: 'No'},\n",
    " 'CONTACT': {0: 'nan'},\n",
    " 'DURATION_CONTACT': {0: 261},\n",
    " 'NB_CONTACT': {0: 1},\n",
    " 'NB_DAY_LAST_CONTACT': {0: -1},\n",
    " 'NB_CONTACT_LAST_CAMPAIGN': {0: 0},\n",
    " 'RESULT_LAST_CAMPAIGN': {0: 'nan'},\n",
    " 'SUBSCRIPTION': {0: 'No'}})"
   ]
  },
  {
   "cell_type": "code",
   "execution_count": 8,
   "metadata": {},
   "outputs": [
    {
     "data": {
      "text/html": [
       "<div>\n",
       "<style scoped>\n",
       "    .dataframe tbody tr th:only-of-type {\n",
       "        vertical-align: middle;\n",
       "    }\n",
       "\n",
       "    .dataframe tbody tr th {\n",
       "        vertical-align: top;\n",
       "    }\n",
       "\n",
       "    .dataframe thead th {\n",
       "        text-align: right;\n",
       "    }\n",
       "</style>\n",
       "<table border=\"1\" class=\"dataframe\">\n",
       "  <thead>\n",
       "    <tr style=\"text-align: right;\">\n",
       "      <th></th>\n",
       "      <th>DATE</th>\n",
       "      <th>AGE</th>\n",
       "      <th>JOB_TYPE</th>\n",
       "      <th>STATUS</th>\n",
       "      <th>EDUCATION</th>\n",
       "      <th>HAS_DEFAULT</th>\n",
       "      <th>BALANCE</th>\n",
       "      <th>HAS_HOUSING_LOAN</th>\n",
       "      <th>HAS_PERSO_LOAN</th>\n",
       "      <th>CONTACT</th>\n",
       "      <th>DURATION_CONTACT</th>\n",
       "      <th>NB_CONTACT</th>\n",
       "      <th>NB_DAY_LAST_CONTACT</th>\n",
       "      <th>NB_CONTACT_LAST_CAMPAIGN</th>\n",
       "      <th>RESULT_LAST_CAMPAIGN</th>\n",
       "      <th>SUBSCRIPTION</th>\n",
       "    </tr>\n",
       "  </thead>\n",
       "  <tbody>\n",
       "    <tr>\n",
       "      <th>0</th>\n",
       "      <td>2008-05-05</td>\n",
       "      <td>58</td>\n",
       "      <td>Manager</td>\n",
       "      <td>Marié</td>\n",
       "      <td>Tertiaire</td>\n",
       "      <td>No</td>\n",
       "      <td>2143</td>\n",
       "      <td>Yes</td>\n",
       "      <td>No</td>\n",
       "      <td>nan</td>\n",
       "      <td>261</td>\n",
       "      <td>1</td>\n",
       "      <td>-1</td>\n",
       "      <td>0</td>\n",
       "      <td>nan</td>\n",
       "      <td>No</td>\n",
       "    </tr>\n",
       "  </tbody>\n",
       "</table>\n",
       "</div>"
      ],
      "text/plain": [
       "         DATE  AGE JOB_TYPE STATUS  EDUCATION HAS_DEFAULT  BALANCE  \\\n",
       "0  2008-05-05   58  Manager  Marié  Tertiaire          No     2143   \n",
       "\n",
       "  HAS_HOUSING_LOAN HAS_PERSO_LOAN CONTACT  DURATION_CONTACT  NB_CONTACT  \\\n",
       "0              Yes             No     nan               261           1   \n",
       "\n",
       "   NB_DAY_LAST_CONTACT  NB_CONTACT_LAST_CAMPAIGN RESULT_LAST_CAMPAIGN  \\\n",
       "0                   -1                         0                  nan   \n",
       "\n",
       "  SUBSCRIPTION  \n",
       "0           No  "
      ]
     },
     "execution_count": 8,
     "metadata": {},
     "output_type": "execute_result"
    }
   ],
   "source": [
    "a"
   ]
  },
  {
   "cell_type": "code",
   "execution_count": 35,
   "metadata": {},
   "outputs": [
    {
     "ename": "NameError",
     "evalue": "name 'nan' is not defined",
     "output_type": "error",
     "traceback": [
      "\u001b[0;31m---------------------------------------------------------------------------\u001b[0m",
      "\u001b[0;31mNameError\u001b[0m                                 Traceback (most recent call last)",
      "\u001b[0;32m<ipython-input-35-e9c368593da9>\u001b[0m in \u001b[0;36m<module>\u001b[0;34m\u001b[0m\n\u001b[1;32m      8\u001b[0m  \u001b[0;34m'HAS_HOUSING_LOAN'\u001b[0m\u001b[0;34m:\u001b[0m \u001b[0;34m'Yes'\u001b[0m\u001b[0;34m,\u001b[0m\u001b[0;34m\u001b[0m\u001b[0;34m\u001b[0m\u001b[0m\n\u001b[1;32m      9\u001b[0m  \u001b[0;34m'HAS_PERSO_LOAN'\u001b[0m\u001b[0;34m:\u001b[0m \u001b[0;34m'No'\u001b[0m\u001b[0;34m,\u001b[0m\u001b[0;34m\u001b[0m\u001b[0;34m\u001b[0m\u001b[0m\n\u001b[0;32m---> 10\u001b[0;31m  \u001b[0;34m'CONTACT'\u001b[0m\u001b[0;34m:\u001b[0m \u001b[0mnan\u001b[0m\u001b[0;34m,\u001b[0m\u001b[0;34m\u001b[0m\u001b[0;34m\u001b[0m\u001b[0m\n\u001b[0m\u001b[1;32m     11\u001b[0m  \u001b[0;34m'DURATION_CONTACT'\u001b[0m\u001b[0;34m:\u001b[0m \u001b[0;36m261\u001b[0m\u001b[0;34m,\u001b[0m\u001b[0;34m\u001b[0m\u001b[0;34m\u001b[0m\u001b[0m\n\u001b[1;32m     12\u001b[0m  \u001b[0;34m'NB_CONTACT'\u001b[0m\u001b[0;34m:\u001b[0m \u001b[0;36m1\u001b[0m\u001b[0;34m,\u001b[0m\u001b[0;34m\u001b[0m\u001b[0;34m\u001b[0m\u001b[0m\n",
      "\u001b[0;31mNameError\u001b[0m: name 'nan' is not defined"
     ]
    }
   ],
   "source": [
    "{\"DATE\": \"2008-05-05\",\n",
    " \"AGE\": 58,\n",
    " \"JOB_TYPE\": 'Manager',\n",
    " 'STATUS': 'Marié',\n",
    " 'EDUCATION': 'Tertiaire',\n",
    " 'HAS_DEFAULT': 'No',\n",
    " 'BALANCE': 2143,\n",
    " 'HAS_HOUSING_LOAN': 'Yes',\n",
    " 'HAS_PERSO_LOAN': 'No',\n",
    " 'CONTACT': nan,\n",
    " 'DURATION_CONTACT': 261,\n",
    " 'NB_CONTACT': 1,\n",
    " 'NB_DAY_LAST_CONTACT': -1,\n",
    " 'NB_CONTACT_LAST_CAMPAIGN': 0,\n",
    " 'RESULT_LAST_CAMPAIGN': nan}"
   ]
  },
  {
   "cell_type": "markdown",
   "metadata": {},
   "source": [
    "# pipeline"
   ]
  },
  {
   "cell_type": "code",
   "execution_count": 19,
   "metadata": {},
   "outputs": [
    {
     "data": {
      "text/plain": [
       "((45136, 17), (45136,))"
      ]
     },
     "execution_count": 19,
     "metadata": {},
     "output_type": "execute_result"
    }
   ],
   "source": [
    "# categorical pipeline \n",
    "#instance.info()\n",
    "features, target = instance.drop(\"SUBSCRIPTION\", axis=1), instance.SUBSCRIPTION\n",
    "features.shape, target.shape"
   ]
  },
  {
   "cell_type": "code",
   "execution_count": 21,
   "metadata": {},
   "outputs": [
    {
     "name": "stdout",
     "output_type": "stream",
     "text": [
      "Processing /Users/heps/Library/Caches/pip/wheels/46/ef/c3/157e41f5ee1372d1be90b09f74f82b10e391eaacca8f22d33e/sklearn-0.0-py2.py3-none-any.whl\n",
      "Collecting scikit-learn\n",
      "  Using cached scikit_learn-0.23.1-cp37-cp37m-macosx_10_9_x86_64.whl (7.2 MB)\n",
      "Collecting scipy>=0.19.1\n",
      "  Downloading scipy-1.5.0-cp37-cp37m-macosx_10_9_x86_64.whl (28.7 MB)\n",
      "\u001b[K     |████████████████████████████████| 28.7 MB 4.1 MB/s eta 0:00:01    |██████████▊                     | 9.6 MB 5.3 MB/s eta 0:00:04     |███████████████████████▉        | 21.4 MB 4.1 MB/s eta 0:00:02\n",
      "\u001b[?25hCollecting threadpoolctl>=2.0.0\n",
      "  Using cached threadpoolctl-2.1.0-py3-none-any.whl (12 kB)\n",
      "Requirement already satisfied: joblib>=0.11 in /Users/heps/miniconda3/lib/python3.7/site-packages (from scikit-learn->sklearn) (0.15.1)\n",
      "Requirement already satisfied: numpy>=1.13.3 in /Users/heps/miniconda3/lib/python3.7/site-packages (from scikit-learn->sklearn) (1.18.4)\n",
      "Installing collected packages: scipy, threadpoolctl, scikit-learn, sklearn\n",
      "Successfully installed scikit-learn-0.23.1 scipy-1.5.0 sklearn-0.0 threadpoolctl-2.1.0\n",
      "Note: you may need to restart the kernel to use updated packages.\n"
     ]
    }
   ],
   "source": [
    "pip install sklearn "
   ]
  },
  {
   "cell_type": "code",
   "execution_count": 23,
   "metadata": {},
   "outputs": [
    {
     "name": "stderr",
     "output_type": "stream",
     "text": [
      "/Users/heps/miniconda3/lib/python3.7/site-packages/sklearn/linear_model/_logistic.py:764: ConvergenceWarning: lbfgs failed to converge (status=1):\n",
      "STOP: TOTAL NO. of ITERATIONS REACHED LIMIT.\n",
      "\n",
      "Increase the number of iterations (max_iter) or scale the data as shown in:\n",
      "    https://scikit-learn.org/stable/modules/preprocessing.html\n",
      "Please also refer to the documentation for alternative solver options:\n",
      "    https://scikit-learn.org/stable/modules/linear_model.html#logistic-regression\n",
      "  extra_warning_msg=_LOGISTIC_SOLVER_CONVERGENCE_MSG)\n"
     ]
    },
    {
     "data": {
      "text/plain": [
       "Pipeline(steps=[('preprocessor',\n",
       "                 ColumnTransformer(transformers=[('num',\n",
       "                                                  Pipeline(steps=[('imputer',\n",
       "                                                                   SimpleImputer(strategy='median')),\n",
       "                                                                  ('scaler',\n",
       "                                                                   StandardScaler())]),\n",
       "                                                  ['AGE', 'BALANCE',\n",
       "                                                   'NB_CONTACT',\n",
       "                                                   'NB_DAY_LAST_CONTACT',\n",
       "                                                   'NB_CONTACT_LAST_CAMPAIGN',\n",
       "                                                   'EMPLOYMENT_VARIATION_RATE',\n",
       "                                                   'IDX_CONSUMER_PRICE',\n",
       "                                                   'IDX_CONSUMER_CONFIDENCE',\n",
       "                                                   'NB_EMPLOYE']),\n",
       "                                                 ('cat',\n",
       "                                                  Pipeline(steps=[('imputer',\n",
       "                                                                   SimpleImputer(fill_value='missing',\n",
       "                                                                                 strategy='constant')),\n",
       "                                                                  ('onehot',\n",
       "                                                                   OneHotEncoder(handle_unknown='ignore'))]),\n",
       "                                                  ['JOB_TYPE', 'STATUS',\n",
       "                                                   'EDUCATION', 'HAS_DEFAULT',\n",
       "                                                   'HAS_HOUSING_LOAN',\n",
       "                                                   'HAS_PERSO_LOAN', 'CONTACT',\n",
       "                                                   'RESULT_LAST_CAMPAIGN'])])),\n",
       "                ('classifier', LogisticRegression())])"
      ]
     },
     "execution_count": 23,
     "metadata": {},
     "output_type": "execute_result"
    }
   ],
   "source": [
    "import numpy as np\n",
    "\n",
    "from sklearn.compose import ColumnTransformer\n",
    "from sklearn.datasets import fetch_openml\n",
    "from sklearn.pipeline import Pipeline\n",
    "from sklearn.impute import SimpleImputer\n",
    "from sklearn.preprocessing import StandardScaler, OneHotEncoder\n",
    "from sklearn.linear_model import LogisticRegression\n",
    "from sklearn.model_selection import train_test_split, GridSearchCV\n",
    "\n",
    "# type of  variables\n",
    "categorical_features = [\"JOB_TYPE\", \"STATUS\", \"EDUCATION\", \"HAS_DEFAULT\", \"HAS_HOUSING_LOAN\", \"HAS_PERSO_LOAN\", \"CONTACT\", \"RESULT_LAST_CAMPAIGN\"]\n",
    "#instance[categorical_variable]\n",
    "\n",
    "categorical_transformer = Pipeline(steps=[\n",
    "    ('imputer', SimpleImputer(strategy='constant', fill_value='missing')),\n",
    "    ('onehot', OneHotEncoder(handle_unknown='ignore'))])\n",
    "\n",
    "numeric_features = [\"AGE\", \"BALANCE\", \"NB_CONTACT\", \"NB_DAY_LAST_CONTACT\", \"NB_CONTACT_LAST_CAMPAIGN\", \"EMPLOYMENT_VARIATION_RATE\", \"IDX_CONSUMER_PRICE\",\"IDX_CONSUMER_CONFIDENCE\", \"NB_EMPLOYE\"]\n",
    "#instance[numeric_features]\n",
    "numeric_transformer = Pipeline(steps=[\n",
    "    ('imputer', SimpleImputer(strategy='median')),\n",
    "    ('scaler', StandardScaler())])\n",
    "\n",
    "\n",
    "preprocessor = ColumnTransformer(\n",
    "    transformers=[\n",
    "        ('num', numeric_transformer, numeric_features),\n",
    "        ('cat', categorical_transformer, categorical_features)])\n",
    "\n",
    "clf = Pipeline(steps=[('preprocessor', preprocessor),\n",
    "                      ('classifier', LogisticRegression())])\n",
    "\n",
    "clf.fit(features, target)"
   ]
  },
  {
   "cell_type": "code",
   "execution_count": 25,
   "metadata": {},
   "outputs": [
    {
     "ename": "TypeError",
     "evalue": "score() missing 1 required positional argument: 'X'",
     "output_type": "error",
     "traceback": [
      "\u001b[0;31m---------------------------------------------------------------------------\u001b[0m",
      "\u001b[0;31mTypeError\u001b[0m                                 Traceback (most recent call last)",
      "\u001b[0;32m<ipython-input-25-6e5bd148bbcb>\u001b[0m in \u001b[0;36m<module>\u001b[0;34m\u001b[0m\n\u001b[0;32m----> 1\u001b[0;31m \u001b[0mclf\u001b[0m\u001b[0;34m.\u001b[0m\u001b[0mscore\u001b[0m\u001b[0;34m(\u001b[0m\u001b[0;34m)\u001b[0m\u001b[0;34m\u001b[0m\u001b[0;34m\u001b[0m\u001b[0m\n\u001b[0m",
      "\u001b[0;32m~/miniconda3/lib/python3.7/site-packages/sklearn/utils/metaestimators.py\u001b[0m in \u001b[0;36m<lambda>\u001b[0;34m(*args, **kwargs)\u001b[0m\n\u001b[1;32m    117\u001b[0m \u001b[0;34m\u001b[0m\u001b[0m\n\u001b[1;32m    118\u001b[0m         \u001b[0;31m# lambda, but not partial, allows help() to work with update_wrapper\u001b[0m\u001b[0;34m\u001b[0m\u001b[0;34m\u001b[0m\u001b[0;34m\u001b[0m\u001b[0m\n\u001b[0;32m--> 119\u001b[0;31m         \u001b[0mout\u001b[0m \u001b[0;34m=\u001b[0m \u001b[0;32mlambda\u001b[0m \u001b[0;34m*\u001b[0m\u001b[0margs\u001b[0m\u001b[0;34m,\u001b[0m \u001b[0;34m**\u001b[0m\u001b[0mkwargs\u001b[0m\u001b[0;34m:\u001b[0m \u001b[0mself\u001b[0m\u001b[0;34m.\u001b[0m\u001b[0mfn\u001b[0m\u001b[0;34m(\u001b[0m\u001b[0mobj\u001b[0m\u001b[0;34m,\u001b[0m \u001b[0;34m*\u001b[0m\u001b[0margs\u001b[0m\u001b[0;34m,\u001b[0m \u001b[0;34m**\u001b[0m\u001b[0mkwargs\u001b[0m\u001b[0;34m)\u001b[0m\u001b[0;34m\u001b[0m\u001b[0;34m\u001b[0m\u001b[0m\n\u001b[0m\u001b[1;32m    120\u001b[0m         \u001b[0;31m# update the docstring of the returned function\u001b[0m\u001b[0;34m\u001b[0m\u001b[0;34m\u001b[0m\u001b[0;34m\u001b[0m\u001b[0m\n\u001b[1;32m    121\u001b[0m         \u001b[0mupdate_wrapper\u001b[0m\u001b[0;34m(\u001b[0m\u001b[0mout\u001b[0m\u001b[0;34m,\u001b[0m \u001b[0mself\u001b[0m\u001b[0;34m.\u001b[0m\u001b[0mfn\u001b[0m\u001b[0;34m)\u001b[0m\u001b[0;34m\u001b[0m\u001b[0;34m\u001b[0m\u001b[0m\n",
      "\u001b[0;31mTypeError\u001b[0m: score() missing 1 required positional argument: 'X'"
     ]
    }
   ],
   "source": [
    "client_data = {}\n"
   ]
  },
  {
   "cell_type": "code",
   "execution_count": 26,
   "metadata": {},
   "outputs": [
    {
     "data": {
      "text/html": [
       "<style>div.sk-top-container {color: black;background-color: white;}div.sk-toggleable {background-color: white;}label.sk-toggleable__label {cursor: pointer;display: block;width: 100%;margin-bottom: 0;padding: 0.2em 0.3em;box-sizing: border-box;text-align: center;}div.sk-toggleable__content {max-height: 0;max-width: 0;overflow: hidden;text-align: left;background-color: #f0f8ff;}div.sk-toggleable__content pre {margin: 0.2em;color: black;border-radius: 0.25em;background-color: #f0f8ff;}input.sk-toggleable__control:checked~div.sk-toggleable__content {max-height: 200px;max-width: 100%;overflow: auto;}div.sk-estimator input.sk-toggleable__control:checked~label.sk-toggleable__label {background-color: #d4ebff;}div.sk-label input.sk-toggleable__control:checked~label.sk-toggleable__label {background-color: #d4ebff;}input.sk-hidden--visually {border: 0;clip: rect(1px 1px 1px 1px);clip: rect(1px, 1px, 1px, 1px);height: 1px;margin: -1px;overflow: hidden;padding: 0;position: absolute;width: 1px;}div.sk-estimator {font-family: monospace;background-color: #f0f8ff;margin: 0.25em 0.25em;border: 1px dotted black;border-radius: 0.25em;box-sizing: border-box;}div.sk-estimator:hover {background-color: #d4ebff;}div.sk-parallel-item::after {content: \"\";width: 100%;border-bottom: 1px solid gray;flex-grow: 1;}div.sk-label:hover label.sk-toggleable__label {background-color: #d4ebff;}div.sk-serial::before {content: \"\";position: absolute;border-left: 1px solid gray;box-sizing: border-box;top: 2em;bottom: 0;left: 50%;}div.sk-serial {display: flex;flex-direction: column;align-items: center;background-color: white;}div.sk-item {z-index: 1;}div.sk-parallel {display: flex;align-items: stretch;justify-content: center;background-color: white;}div.sk-parallel-item {display: flex;flex-direction: column;position: relative;background-color: white;}div.sk-parallel-item:first-child::after {align-self: flex-end;width: 50%;}div.sk-parallel-item:last-child::after {align-self: flex-start;width: 50%;}div.sk-parallel-item:only-child::after {width: 0;}div.sk-dashed-wrapped {border: 1px dashed gray;margin: 0.2em;box-sizing: border-box;padding-bottom: 0.1em;background-color: white;position: relative;}div.sk-label label {font-family: monospace;font-weight: bold;background-color: white;display: inline-block;line-height: 1.2em;}div.sk-label-container {position: relative;z-index: 2;text-align: center;}div.sk-container {display: inline-block;position: relative;}</style><div class=\"sk-top-container\"><div class=\"sk-container\"><div class=\"sk-item sk-dashed-wrapped\"><div class=\"sk-label-container\"><div class=\"sk-label sk-toggleable\"><input class=\"sk-toggleable__control sk-hidden--visually\" id=\"2f43c869-1126-49aa-a3f6-97900c527660\" type=\"checkbox\" ><label class=\"sk-toggleable__label\" for=\"2f43c869-1126-49aa-a3f6-97900c527660\">Pipeline</label><div class=\"sk-toggleable__content\"><pre>Pipeline(steps=[('preprocessor',\n",
       "                 ColumnTransformer(transformers=[('num',\n",
       "                                                  Pipeline(steps=[('imputer',\n",
       "                                                                   SimpleImputer(strategy='median')),\n",
       "                                                                  ('scaler',\n",
       "                                                                   StandardScaler())]),\n",
       "                                                  ['AGE', 'BALANCE',\n",
       "                                                   'NB_CONTACT',\n",
       "                                                   'NB_DAY_LAST_CONTACT',\n",
       "                                                   'NB_CONTACT_LAST_CAMPAIGN',\n",
       "                                                   'EMPLOYMENT_VARIATION_RATE',\n",
       "                                                   'IDX_CONSUMER_PRICE',\n",
       "                                                   'IDX_CONSUMER_CONFIDENCE',\n",
       "                                                   'NB_EMPLOYE']),\n",
       "                                                 ('cat',\n",
       "                                                  Pipeline(steps=[('imputer',\n",
       "                                                                   SimpleImputer(fill_value='missing',\n",
       "                                                                                 strategy='constant')),\n",
       "                                                                  ('onehot',\n",
       "                                                                   OneHotEncoder(handle_unknown='ignore'))]),\n",
       "                                                  ['JOB_TYPE', 'STATUS',\n",
       "                                                   'EDUCATION', 'HAS_DEFAULT',\n",
       "                                                   'HAS_HOUSING_LOAN',\n",
       "                                                   'HAS_PERSO_LOAN', 'CONTACT',\n",
       "                                                   'RESULT_LAST_CAMPAIGN'])])),\n",
       "                ('classifier', LogisticRegression())])</pre></div></div></div><div class=\"sk-serial\"><div class=\"sk-item sk-dashed-wrapped\"><div class=\"sk-label-container\"><div class=\"sk-label sk-toggleable\"><input class=\"sk-toggleable__control sk-hidden--visually\" id=\"6fa38e75-5bf1-4990-9ec9-5f0c217aa8ec\" type=\"checkbox\" ><label class=\"sk-toggleable__label\" for=\"6fa38e75-5bf1-4990-9ec9-5f0c217aa8ec\">preprocessor: ColumnTransformer</label><div class=\"sk-toggleable__content\"><pre>ColumnTransformer(transformers=[('num',\n",
       "                                 Pipeline(steps=[('imputer',\n",
       "                                                  SimpleImputer(strategy='median')),\n",
       "                                                 ('scaler', StandardScaler())]),\n",
       "                                 ['AGE', 'BALANCE', 'NB_CONTACT',\n",
       "                                  'NB_DAY_LAST_CONTACT',\n",
       "                                  'NB_CONTACT_LAST_CAMPAIGN',\n",
       "                                  'EMPLOYMENT_VARIATION_RATE',\n",
       "                                  'IDX_CONSUMER_PRICE',\n",
       "                                  'IDX_CONSUMER_CONFIDENCE', 'NB_EMPLOYE']),\n",
       "                                ('cat',\n",
       "                                 Pipeline(steps=[('imputer',\n",
       "                                                  SimpleImputer(fill_value='missing',\n",
       "                                                                strategy='constant')),\n",
       "                                                 ('onehot',\n",
       "                                                  OneHotEncoder(handle_unknown='ignore'))]),\n",
       "                                 ['JOB_TYPE', 'STATUS', 'EDUCATION',\n",
       "                                  'HAS_DEFAULT', 'HAS_HOUSING_LOAN',\n",
       "                                  'HAS_PERSO_LOAN', 'CONTACT',\n",
       "                                  'RESULT_LAST_CAMPAIGN'])])</pre></div></div></div><div class=\"sk-parallel\"><div class=\"sk-parallel-item\"><div class=\"sk-item\"><div class=\"sk-label-container\"><div class=\"sk-label sk-toggleable\"><input class=\"sk-toggleable__control sk-hidden--visually\" id=\"f28b15a8-fe00-4c0c-aa25-b6dce9f8100d\" type=\"checkbox\" ><label class=\"sk-toggleable__label\" for=\"f28b15a8-fe00-4c0c-aa25-b6dce9f8100d\">num</label><div class=\"sk-toggleable__content\"><pre>['AGE', 'BALANCE', 'NB_CONTACT', 'NB_DAY_LAST_CONTACT', 'NB_CONTACT_LAST_CAMPAIGN', 'EMPLOYMENT_VARIATION_RATE', 'IDX_CONSUMER_PRICE', 'IDX_CONSUMER_CONFIDENCE', 'NB_EMPLOYE']</pre></div></div></div><div class=\"sk-serial\"><div class=\"sk-item\"><div class=\"sk-serial\"><div class=\"sk-item\"><div class=\"sk-estimator sk-toggleable\"><input class=\"sk-toggleable__control sk-hidden--visually\" id=\"77b59a2b-3a34-44ce-b71d-eed3e82e04a0\" type=\"checkbox\" ><label class=\"sk-toggleable__label\" for=\"77b59a2b-3a34-44ce-b71d-eed3e82e04a0\">SimpleImputer</label><div class=\"sk-toggleable__content\"><pre>SimpleImputer(strategy='median')</pre></div></div></div><div class=\"sk-item\"><div class=\"sk-estimator sk-toggleable\"><input class=\"sk-toggleable__control sk-hidden--visually\" id=\"8f273fcd-4dc2-4153-8422-6c215f61855c\" type=\"checkbox\" ><label class=\"sk-toggleable__label\" for=\"8f273fcd-4dc2-4153-8422-6c215f61855c\">StandardScaler</label><div class=\"sk-toggleable__content\"><pre>StandardScaler()</pre></div></div></div></div></div></div></div></div><div class=\"sk-parallel-item\"><div class=\"sk-item\"><div class=\"sk-label-container\"><div class=\"sk-label sk-toggleable\"><input class=\"sk-toggleable__control sk-hidden--visually\" id=\"eda01134-4f38-4229-b08c-5249c3ba3794\" type=\"checkbox\" ><label class=\"sk-toggleable__label\" for=\"eda01134-4f38-4229-b08c-5249c3ba3794\">cat</label><div class=\"sk-toggleable__content\"><pre>['JOB_TYPE', 'STATUS', 'EDUCATION', 'HAS_DEFAULT', 'HAS_HOUSING_LOAN', 'HAS_PERSO_LOAN', 'CONTACT', 'RESULT_LAST_CAMPAIGN']</pre></div></div></div><div class=\"sk-serial\"><div class=\"sk-item\"><div class=\"sk-serial\"><div class=\"sk-item\"><div class=\"sk-estimator sk-toggleable\"><input class=\"sk-toggleable__control sk-hidden--visually\" id=\"47698d9f-e62a-4cbd-b906-1e108b2f4aee\" type=\"checkbox\" ><label class=\"sk-toggleable__label\" for=\"47698d9f-e62a-4cbd-b906-1e108b2f4aee\">SimpleImputer</label><div class=\"sk-toggleable__content\"><pre>SimpleImputer(fill_value='missing', strategy='constant')</pre></div></div></div><div class=\"sk-item\"><div class=\"sk-estimator sk-toggleable\"><input class=\"sk-toggleable__control sk-hidden--visually\" id=\"fba17a20-a0ec-4110-b366-f54ecbd96dce\" type=\"checkbox\" ><label class=\"sk-toggleable__label\" for=\"fba17a20-a0ec-4110-b366-f54ecbd96dce\">OneHotEncoder</label><div class=\"sk-toggleable__content\"><pre>OneHotEncoder(handle_unknown='ignore')</pre></div></div></div></div></div></div></div></div></div></div><div class=\"sk-item\"><div class=\"sk-estimator sk-toggleable\"><input class=\"sk-toggleable__control sk-hidden--visually\" id=\"02455d67-650f-475d-b737-ec0bec1cd7ec\" type=\"checkbox\" ><label class=\"sk-toggleable__label\" for=\"02455d67-650f-475d-b737-ec0bec1cd7ec\">LogisticRegression</label><div class=\"sk-toggleable__content\"><pre>LogisticRegression()</pre></div></div></div></div></div></div></div>"
      ],
      "text/plain": [
       "Pipeline(steps=[('preprocessor',\n",
       "                 ColumnTransformer(transformers=[('num',\n",
       "                                                  Pipeline(steps=[('imputer',\n",
       "                                                                   SimpleImputer(strategy='median')),\n",
       "                                                                  ('scaler',\n",
       "                                                                   StandardScaler())]),\n",
       "                                                  ['AGE', 'BALANCE',\n",
       "                                                   'NB_CONTACT',\n",
       "                                                   'NB_DAY_LAST_CONTACT',\n",
       "                                                   'NB_CONTACT_LAST_CAMPAIGN',\n",
       "                                                   'EMPLOYMENT_VARIATION_RATE',\n",
       "                                                   'IDX_CONSUMER_PRICE',\n",
       "                                                   'IDX_CONSUMER_CONFIDENCE',\n",
       "                                                   'NB_EMPLOYE']),\n",
       "                                                 ('cat',\n",
       "                                                  Pipeline(steps=[('imputer',\n",
       "                                                                   SimpleImputer(fill_value='missing',\n",
       "                                                                                 strategy='constant')),\n",
       "                                                                  ('onehot',\n",
       "                                                                   OneHotEncoder(handle_unknown='ignore'))]),\n",
       "                                                  ['JOB_TYPE', 'STATUS',\n",
       "                                                   'EDUCATION', 'HAS_DEFAULT',\n",
       "                                                   'HAS_HOUSING_LOAN',\n",
       "                                                   'HAS_PERSO_LOAN', 'CONTACT',\n",
       "                                                   'RESULT_LAST_CAMPAIGN'])])),\n",
       "                ('classifier', LogisticRegression())])"
      ]
     },
     "execution_count": 26,
     "metadata": {},
     "output_type": "execute_result"
    }
   ],
   "source": [
    "from sklearn import set_config\n",
    "set_config(display='diagram')\n",
    "clf"
   ]
  },
  {
   "cell_type": "code",
   "execution_count": 36,
   "metadata": {},
   "outputs": [],
   "source": [
    "import json\n",
    "\n",
    "class Object:\n",
    "    def toJSON(self):\n",
    "        return json.dumps(self, default=lambda o: o.__dict__, \n",
    "            sort_keys=True, indent=4)"
   ]
  },
  {
   "cell_type": "code",
   "execution_count": 37,
   "metadata": {},
   "outputs": [],
   "source": [
    "me = Object()\n",
    "me.name = \"Onur\"\n",
    "me.age = 35\n",
    "me.dog = Object()\n",
    "me.dog.name = \"Apollo\""
   ]
  },
  {
   "cell_type": "code",
   "execution_count": 43,
   "metadata": {},
   "outputs": [
    {
     "data": {
      "text/html": [
       "<div>\n",
       "<style scoped>\n",
       "    .dataframe tbody tr th:only-of-type {\n",
       "        vertical-align: middle;\n",
       "    }\n",
       "\n",
       "    .dataframe tbody tr th {\n",
       "        vertical-align: top;\n",
       "    }\n",
       "\n",
       "    .dataframe thead th {\n",
       "        text-align: right;\n",
       "    }\n",
       "</style>\n",
       "<table border=\"1\" class=\"dataframe\">\n",
       "  <thead>\n",
       "    <tr style=\"text-align: right;\">\n",
       "      <th></th>\n",
       "      <th>DATE</th>\n",
       "      <th>AGE</th>\n",
       "      <th>JOB_TYPE</th>\n",
       "      <th>STATUS</th>\n",
       "      <th>EDUCATION</th>\n",
       "      <th>HAS_DEFAULT</th>\n",
       "      <th>BALANCE</th>\n",
       "      <th>HAS_HOUSING_LOAN</th>\n",
       "      <th>HAS_PERSO_LOAN</th>\n",
       "      <th>CONTACT</th>\n",
       "      <th>DURATION_CONTACT</th>\n",
       "      <th>NB_CONTACT</th>\n",
       "      <th>NB_DAY_LAST_CONTACT</th>\n",
       "      <th>NB_CONTACT_LAST_CAMPAIGN</th>\n",
       "      <th>RESULT_LAST_CAMPAIGN</th>\n",
       "    </tr>\n",
       "  </thead>\n",
       "  <tbody>\n",
       "    <tr>\n",
       "      <th>0</th>\n",
       "      <td>2008-05-05</td>\n",
       "      <td>58</td>\n",
       "      <td>Manager</td>\n",
       "      <td>Marié</td>\n",
       "      <td>Tertiaire</td>\n",
       "      <td>No</td>\n",
       "      <td>2143</td>\n",
       "      <td>Yes</td>\n",
       "      <td>No</td>\n",
       "      <td>nan</td>\n",
       "      <td>261</td>\n",
       "      <td>1</td>\n",
       "      <td>-1</td>\n",
       "      <td>0</td>\n",
       "      <td>nan</td>\n",
       "    </tr>\n",
       "  </tbody>\n",
       "</table>\n",
       "</div>"
      ],
      "text/plain": [
       "         DATE AGE JOB_TYPE STATUS  EDUCATION HAS_DEFAULT BALANCE  \\\n",
       "0  2008-05-05  58  Manager  Marié  Tertiaire          No    2143   \n",
       "\n",
       "  HAS_HOUSING_LOAN HAS_PERSO_LOAN CONTACT DURATION_CONTACT NB_CONTACT  \\\n",
       "0              Yes             No     nan              261          1   \n",
       "\n",
       "  NB_DAY_LAST_CONTACT NB_CONTACT_LAST_CAMPAIGN RESULT_LAST_CAMPAIGN  \n",
       "0                  -1                        0                  nan  "
      ]
     },
     "execution_count": 43,
     "metadata": {},
     "output_type": "execute_result"
    }
   ],
   "source": [
    "\n",
    "\n",
    "\n",
    "\n",
    "pd.DataFrame.from_dict({'DATE': '2008-05-05', 'AGE': 58, 'JOB_TYPE': 'Manager', 'STATUS': 'Mari\\u00e9', 'EDUCATION': 'Tertiaire', 'HAS_DEFAULT': 'No', 'BALANCE': 2143, 'HAS_HOUSING_LOAN': 'Yes', 'HAS_PERSO_LOAN': 'No', 'CONTACT': 'nan', 'DURATION_CONTACT': 261, 'NB_CONTACT': 1, 'NB_DAY_LAST_CONTACT': -1, 'NB_CONTACT_LAST_CAMPAIGN': 0, 'RESULT_LAST_CAMPAIGN': 'nan'}, orient=\"index\").T\n",
    "\n",
    "\n",
    "\n",
    "\n",
    "\n",
    "\n"
   ]
  },
  {
   "cell_type": "code",
   "execution_count": null,
   "metadata": {},
   "outputs": [],
   "source": []
  }
 ],
 "metadata": {
  "kernelspec": {
   "display_name": "Python 3",
   "language": "python",
   "name": "python3"
  },
  "language_info": {
   "codemirror_mode": {
    "name": "ipython",
    "version": 3
   },
   "file_extension": ".py",
   "mimetype": "text/x-python",
   "name": "python",
   "nbconvert_exporter": "python",
   "pygments_lexer": "ipython3",
   "version": "3.7.6"
  }
 },
 "nbformat": 4,
 "nbformat_minor": 4
}
